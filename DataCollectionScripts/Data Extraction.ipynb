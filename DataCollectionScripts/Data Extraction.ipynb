{
 "cells": [
  {
   "cell_type": "code",
   "execution_count": 2,
   "metadata": {},
   "outputs": [],
   "source": [
    "import pandas as pd"
   ]
  },
  {
   "cell_type": "code",
   "execution_count": 60,
   "metadata": {},
   "outputs": [
    {
     "data": {
      "text/html": [
       "<div>\n",
       "<style scoped>\n",
       "    .dataframe tbody tr th:only-of-type {\n",
       "        vertical-align: middle;\n",
       "    }\n",
       "\n",
       "    .dataframe tbody tr th {\n",
       "        vertical-align: top;\n",
       "    }\n",
       "\n",
       "    .dataframe thead th {\n",
       "        text-align: right;\n",
       "    }\n",
       "</style>\n",
       "<table border=\"1\" class=\"dataframe\">\n",
       "  <thead>\n",
       "    <tr style=\"text-align: right;\">\n",
       "      <th></th>\n",
       "      <th>Unnamed: 0</th>\n",
       "      <th>URL</th>\n",
       "      <th>Category</th>\n",
       "    </tr>\n",
       "  </thead>\n",
       "  <tbody>\n",
       "    <tr>\n",
       "      <td>0</td>\n",
       "      <td>1122436</td>\n",
       "      <td>http://tias.com/stores/grannyscupboard</td>\n",
       "      <td>Shopping</td>\n",
       "    </tr>\n",
       "    <tr>\n",
       "      <td>1</td>\n",
       "      <td>1122437</td>\n",
       "      <td>http://www.go-kat-go.com/</td>\n",
       "      <td>Shopping</td>\n",
       "    </tr>\n",
       "    <tr>\n",
       "      <td>2</td>\n",
       "      <td>1122438</td>\n",
       "      <td>http://monimania.home.att.net</td>\n",
       "      <td>Shopping</td>\n",
       "    </tr>\n",
       "    <tr>\n",
       "      <td>3</td>\n",
       "      <td>1122439</td>\n",
       "      <td>http://www.decodan.com</td>\n",
       "      <td>Shopping</td>\n",
       "    </tr>\n",
       "    <tr>\n",
       "      <td>4</td>\n",
       "      <td>1122440</td>\n",
       "      <td>http://www.decoworld.com</td>\n",
       "      <td>Shopping</td>\n",
       "    </tr>\n",
       "  </tbody>\n",
       "</table>\n",
       "</div>"
      ],
      "text/plain": [
       "   Unnamed: 0                                     URL  Category\n",
       "0     1122436  http://tias.com/stores/grannyscupboard  Shopping\n",
       "1     1122437               http://www.go-kat-go.com/  Shopping\n",
       "2     1122438           http://monimania.home.att.net  Shopping\n",
       "3     1122439                  http://www.decodan.com  Shopping\n",
       "4     1122440                http://www.decoworld.com  Shopping"
      ]
     },
     "execution_count": 60,
     "metadata": {},
     "output_type": "execute_result"
    }
   ],
   "source": [
    "urls_noHeader = [\"https://raw.githubusercontent.com/gr33ndata/dmoz-urlclassifier/master/dmoz0409.csv\",\"https://raw.githubusercontent.com/kennedyCzar/URI-URL-CLASSIFICATION-USING-RECURRENT-NEURAL-NETWORK-SVM-AND-RANDOMFOREST/master/DATASET/2013_04_21.csv\"]\n",
    "#\"https://raw.githubusercontent.com/mpaul24/WebsiteClassification/master/website.csv\",\n",
    "##df = pd.DataFrame(pd.read_excel(\"Test.xlsx\"))\n",
    "\n",
    "li = []\n",
    "\n",
    "def extractData(urls):\n",
    "    for i in range(len(urls)):\n",
    "        data = pd.read_csv(urls[i])\n",
    "        data.head()\n",
    "        data.columns = ['index', 'URL', 'Category']\n",
    "        data = data.drop(['index'], axis = 1)\n",
    "        data_list = ['Shopping']\n",
    "        data_sv = data[data.Category.isin(data_list)]\n",
    "        data_sv.to_csv('websites'+str(i)+'.csv')\n",
    "    \n",
    "\n",
    "\n",
    "extractData(urls_noHeader)\n",
    "data = pd.read_csv('websites0.csv')\n",
    "data.head()"
   ]
  },
  {
   "cell_type": "code",
   "execution_count": 61,
   "metadata": {},
   "outputs": [
    {
     "data": {
      "text/html": [
       "<div>\n",
       "<style scoped>\n",
       "    .dataframe tbody tr th:only-of-type {\n",
       "        vertical-align: middle;\n",
       "    }\n",
       "\n",
       "    .dataframe tbody tr th {\n",
       "        vertical-align: top;\n",
       "    }\n",
       "\n",
       "    .dataframe thead th {\n",
       "        text-align: right;\n",
       "    }\n",
       "</style>\n",
       "<table border=\"1\" class=\"dataframe\">\n",
       "  <thead>\n",
       "    <tr style=\"text-align: right;\">\n",
       "      <th></th>\n",
       "      <th>Unnamed: 0</th>\n",
       "      <th>URL</th>\n",
       "      <th>Category</th>\n",
       "    </tr>\n",
       "  </thead>\n",
       "  <tbody>\n",
       "    <tr>\n",
       "      <td>0</td>\n",
       "      <td>852759</td>\n",
       "      <td>http://www.decodan.com/</td>\n",
       "      <td>Shopping</td>\n",
       "    </tr>\n",
       "    <tr>\n",
       "      <td>1</td>\n",
       "      <td>852760</td>\n",
       "      <td>http://www.decoworld.com/</td>\n",
       "      <td>Shopping</td>\n",
       "    </tr>\n",
       "    <tr>\n",
       "      <td>2</td>\n",
       "      <td>852761</td>\n",
       "      <td>http://www.ohioseeburgrepair.com/</td>\n",
       "      <td>Shopping</td>\n",
       "    </tr>\n",
       "    <tr>\n",
       "      <td>3</td>\n",
       "      <td>852762</td>\n",
       "      <td>http://www.dowahdiddy.com/</td>\n",
       "      <td>Shopping</td>\n",
       "    </tr>\n",
       "    <tr>\n",
       "      <td>4</td>\n",
       "      <td>852763</td>\n",
       "      <td>http://www.trashdaddy.com/</td>\n",
       "      <td>Shopping</td>\n",
       "    </tr>\n",
       "  </tbody>\n",
       "</table>\n",
       "</div>"
      ],
      "text/plain": [
       "   Unnamed: 0                                URL  Category\n",
       "0      852759            http://www.decodan.com/  Shopping\n",
       "1      852760          http://www.decoworld.com/  Shopping\n",
       "2      852761  http://www.ohioseeburgrepair.com/  Shopping\n",
       "3      852762         http://www.dowahdiddy.com/  Shopping\n",
       "4      852763         http://www.trashdaddy.com/  Shopping"
      ]
     },
     "execution_count": 61,
     "metadata": {},
     "output_type": "execute_result"
    }
   ],
   "source": [
    "\n",
    "#data = extractData(urls_noHeader)\n",
    "d = pd.read_csv('websites1.csv')\n",
    "d.head()"
   ]
  },
  {
   "cell_type": "code",
   "execution_count": null,
   "metadata": {},
   "outputs": [],
   "source": []
  }
 ],
 "metadata": {
  "kernelspec": {
   "display_name": "Python 3",
   "language": "python",
   "name": "python3"
  },
  "language_info": {
   "codemirror_mode": {
    "name": "ipython",
    "version": 3
   },
   "file_extension": ".py",
   "mimetype": "text/x-python",
   "name": "python",
   "nbconvert_exporter": "python",
   "pygments_lexer": "ipython3",
   "version": "3.7.4"
  }
 },
 "nbformat": 4,
 "nbformat_minor": 2
}
